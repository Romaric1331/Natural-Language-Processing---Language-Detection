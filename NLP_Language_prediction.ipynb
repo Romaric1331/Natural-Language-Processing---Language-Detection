{
  "nbformat": 4,
  "nbformat_minor": 0,
  "metadata": {
    "colab": {
      "provenance": []
    },
    "kernelspec": {
      "name": "python3",
      "display_name": "Python 3"
    },
    "language_info": {
      "name": "python"
    }
  },
  "cells": [
    {
      "cell_type": "code",
      "execution_count": null,
      "metadata": {
        "id": "EdmuVYbP4I-4"
      },
      "outputs": [],
      "source": [
        "import pandas as pd\n",
        "import numpy as np\n",
        "import re\n",
        "import seaborn as sns\n",
        "import matplotlib.pyplot as plt\n",
        "#import warnings\n",
        "#warnings.simplefilter(\"ignore\")"
      ]
    },
    {
      "cell_type": "code",
      "source": [
        "df=pd.read_csv(\"/content/Language Detection.csv\")"
      ],
      "metadata": {
        "id": "WJ_RtlUT5MGO"
      },
      "execution_count": null,
      "outputs": []
    },
    {
      "cell_type": "code",
      "source": [
        "X = df[\"Text\"]\n",
        "y = df[\"Language\"]"
      ],
      "metadata": {
        "id": "yaQAdTyC5sEr"
      },
      "execution_count": null,
      "outputs": []
    },
    {
      "cell_type": "code",
      "source": [
        "from sklearn.preprocessing import LabelEncoder\n",
        "le = LabelEncoder()\n",
        "y = le.fit_transform(y)"
      ],
      "metadata": {
        "id": "idMrxAa059Po"
      },
      "execution_count": null,
      "outputs": []
    },
    {
      "cell_type": "code",
      "source": [
        "#creating a list for appending the preprocessed text\n",
        "data_list = []\n",
        "# iterating through all the text\n",
        "for text in X:\n",
        "       # removing the symbols and numbers\n",
        "        text = re.sub(r'[!@#$(),n\"%^*?:;~`0-9]', ' ', text)\n",
        "        text = re.sub(r'[[]]', ' ', text)\n",
        "        # converting the text to lower case\n",
        "        text = text.lower()\n",
        "        # appending to data_list\n",
        "        data_list.append(text)"
      ],
      "metadata": {
        "id": "lRp73Myh6GUl"
      },
      "execution_count": null,
      "outputs": []
    },
    {
      "cell_type": "code",
      "source": [
        "# creation of feature extractor for text data\n",
        "from sklearn.feature_extraction.text import CountVectorizer\n",
        "cv = CountVectorizer()\n",
        "X = cv.fit_transform(data_list).toarray() # to learn the vocabulary dictionary and extract the term frequency matrix\n",
        "print(X.shape)"
      ],
      "metadata": {
        "id": "QXO0ltDg6LUz",
        "colab": {
          "base_uri": "https://localhost:8080/"
        },
        "outputId": "c29164e0-bac1-420e-917b-309133d19313"
      },
      "execution_count": null,
      "outputs": [
        {
          "output_type": "stream",
          "name": "stdout",
          "text": [
            "(10337, 34937)\n"
          ]
        }
      ]
    },
    {
      "cell_type": "code",
      "source": [
        "from sklearn.model_selection import train_test_split\n",
        "x_train, x_test, y_train, y_test = train_test_split(X, y, test_size = 0.20)"
      ],
      "metadata": {
        "id": "RuRqaYMa6Q-y"
      },
      "execution_count": null,
      "outputs": []
    },
    {
      "cell_type": "code",
      "source": [
        "# multinomial Naive Bayes classifier\n",
        "from sklearn.naive_bayes import MultinomialNB\n",
        "model = MultinomialNB()\n",
        "model.fit(x_train, y_train)"
      ],
      "metadata": {
        "colab": {
          "base_uri": "https://localhost:8080/"
        },
        "id": "sFv-yshI6ZEQ",
        "outputId": "abed321a-dc8c-4bfd-ec83-5176ff52dd49"
      },
      "execution_count": null,
      "outputs": [
        {
          "output_type": "execute_result",
          "data": {
            "text/plain": [
              "MultinomialNB()"
            ]
          },
          "metadata": {},
          "execution_count": 9
        }
      ]
    },
    {
      "cell_type": "code",
      "source": [
        "y_pred = model.predict(x_test) #predicting the model with x_test data"
      ],
      "metadata": {
        "id": "YrjDZ6E_6eZm"
      },
      "execution_count": null,
      "outputs": []
    },
    {
      "cell_type": "code",
      "source": [
        "from sklearn.metrics import accuracy_score, confusion_matrix, classification_report\n",
        "accuracy = accuracy_score(y_test, y_pred)\n",
        "conf_matrix = confusion_matrix(y_test, y_pred)\n",
        "\n",
        "print(classification_report(y_test, y_pred))\n",
        "print(\"Accuracy :\",accuracy)"
      ],
      "metadata": {
        "colab": {
          "base_uri": "https://localhost:8080/"
        },
        "id": "mmVcCnym6oA1",
        "outputId": "fe2262db-0906-44cd-8c89-af870a31b13c"
      },
      "execution_count": null,
      "outputs": [
        {
          "output_type": "stream",
          "name": "stdout",
          "text": [
            "              precision    recall  f1-score   support\n",
            "\n",
            "           0       1.00      0.97      0.99       143\n",
            "           1       0.99      0.95      0.97        93\n",
            "           2       0.96      0.96      0.96       106\n",
            "           3       0.91      1.00      0.95       273\n",
            "           4       0.98      0.99      0.99       197\n",
            "           5       1.00      0.96      0.98        97\n",
            "           6       1.00      0.99      0.99        72\n",
            "           7       1.00      1.00      1.00        13\n",
            "           8       0.98      0.98      0.98       131\n",
            "           9       1.00      0.95      0.97        79\n",
            "          10       1.00      0.99      1.00       117\n",
            "          11       0.98      0.97      0.98       153\n",
            "          12       1.00      0.97      0.99       117\n",
            "          13       0.97      0.97      0.97       154\n",
            "          14       0.98      0.97      0.97       127\n",
            "          15       1.00      1.00      1.00       102\n",
            "          16       1.00      0.94      0.97        94\n",
            "\n",
            "    accuracy                           0.98      2068\n",
            "   macro avg       0.99      0.97      0.98      2068\n",
            "weighted avg       0.98      0.98      0.98      2068\n",
            "\n",
            "Accuracy : 0.9763056092843327\n"
          ]
        }
      ]
    },
    {
      "cell_type": "code",
      "source": [
        "#heat map\n",
        "plt.figure(figsize=(15,10))\n",
        "sns.heatmap(cm, annot = True)\n",
        "plt.show()"
      ],
      "metadata": {
        "colab": {
          "base_uri": "https://localhost:8080/",
          "height": 592
        },
        "id": "WXydBOyU6uHe",
        "outputId": "a3fbfdca-53c2-4301-bbb4-f10917aa5a00"
      },
      "execution_count": null,
      "outputs": [
        {
          "output_type": "display_data",
          "data": {
            "text/plain": [
              "<Figure size 1080x720 with 2 Axes>"
            ],
            "image/png": "[encoded data removed]"
          },
          "metadata": {
            "needs_background": "light"
          }
        }
      ]
    },
    {
      "cell_type": "code",
      "source": [
        "def predict_lang(text):\n",
        "     x = cv.transform([text]).toarray() # converting text to bag of words model (Vector)\n",
        "     lang = model.predict(x) # predicting the language\n",
        "     lang = le.inverse_transform(lang) # finding the language corresponding the the predicted value\n",
        "     print(\"Language : \",lang[0]) # printing the language"
      ],
      "metadata": {
        "id": "uHiZWM9s6utx"
      },
      "execution_count": null,
      "outputs": []
    },
    {
      "cell_type": "code",
      "source": [
        "df[\"Language\"].value_counts()"
      ],
      "metadata": {
        "id": "z9CqWBdy4Jyq",
        "colab": {
          "base_uri": "https://localhost:8080/"
        },
        "outputId": "c012f93b-fb68-4a5f-f402-ee83e000775a"
      },
      "execution_count": null,
      "outputs": [
        {
          "output_type": "execute_result",
          "data": {
            "text/plain": [
              "English       1385\n",
              "French        1014\n",
              "Spanish        819\n",
              "Portugeese     739\n",
              "Italian        698\n",
              "Russian        692\n",
              "Sweedish       676\n",
              "Malayalam      594\n",
              "Dutch          546\n",
              "Arabic         536\n",
              "Turkish        474\n",
              "German         470\n",
              "Tamil          469\n",
              "Danish         428\n",
              "Kannada        369\n",
              "Greek          365\n",
              "Hindi           63\n",
              "Name: Language, dtype: int64"
            ]
          },
          "metadata": {},
          "execution_count": 43
        }
      ]
    },
    {
      "cell_type": "code",
      "source": [
        "# Malayalam\n",
        "predict_lang(\"അനലിറ്റിക്സ്, ഡാറ്റാ സയൻസ് പ്രൊഫഷണലുകൾക്കായി കമ്മ്യൂണിറ്റി അധിഷ്ഠിത വിജ്ഞാന പോർട്ടൽ അനലിറ്റിക്സ് വിദ്യ നൽകുന്നു\")"
      ],
      "metadata": {
        "colab": {
          "base_uri": "https://localhost:8080/"
        },
        "id": "sR37FYyM60Tz",
        "outputId": "eef00fe2-b744-4208-c96d-88beea0ae332"
      },
      "execution_count": null,
      "outputs": [
        {
          "output_type": "stream",
          "name": "stdout",
          "text": [
            "Language :  Malayalam\n"
          ]
        }
      ]
    },
    {
      "cell_type": "code",
      "source": [
        "predict_lang(\"வணக்கம்\") #tamil"
      ],
      "metadata": {
        "id": "OfMpMuIU69MH",
        "colab": {
          "base_uri": "https://localhost:8080/"
        },
        "outputId": "9444de44-818a-4e83-dbb9-86eee6250b62"
      },
      "execution_count": null,
      "outputs": [
        {
          "output_type": "stream",
          "name": "stdout",
          "text": [
            "Language :  Tamil\n"
          ]
        }
      ]
    },
    {
      "cell_type": "code",
      "source": [
        "predict_lang(\"je t'aime\") #French"
      ],
      "metadata": {
        "colab": {
          "base_uri": "https://localhost:8080/"
        },
        "id": "VEtTLgsH39No",
        "outputId": "c5db664b-ff30-4312-a4f8-0071089cf46f"
      },
      "execution_count": null,
      "outputs": [
        {
          "output_type": "stream",
          "name": "stdout",
          "text": [
            "Language :  French\n"
          ]
        }
      ]
    },
    {
      "cell_type": "code",
      "source": [
        "predict_lang(\"ich vermisse diche\") #german"
      ],
      "metadata": {
        "colab": {
          "base_uri": "https://localhost:8080/"
        },
        "id": "JzaWEG0A7Jnr",
        "outputId": "acde854d-31ea-41f0-ed88-1d0e7c4c04d4"
      },
      "execution_count": null,
      "outputs": [
        {
          "output_type": "stream",
          "name": "stdout",
          "text": [
            "Language :  German\n"
          ]
        }
      ]
    },
    {
      "cell_type": "code",
      "source": [
        "predict_lang(\"مرحبا.. كيف حالك؟\")"
      ],
      "metadata": {
        "id": "WMbE4T1LCeFj",
        "colab": {
          "base_uri": "https://localhost:8080/"
        },
        "outputId": "82d972bc-f292-40c3-c6c0-c78c6f9d4750"
      },
      "execution_count": null,
      "outputs": [
        {
          "output_type": "stream",
          "name": "stdout",
          "text": [
            "Language :  Arabic\n"
          ]
        }
      ]
    },
    {
      "cell_type": "code",
      "source": [
        "predict_lang(\"io ho molto fame!\")"
      ],
      "metadata": {
        "colab": {
          "base_uri": "https://localhost:8080/"
        },
        "id": "Axzp2_v-baUc",
        "outputId": "0fb112b8-0c16-4830-c596-5c836bacea8f"
      },
      "execution_count": null,
      "outputs": [
        {
          "output_type": "stream",
          "name": "stdout",
          "text": [
            "Language :  Italian\n"
          ]
        }
      ]
    },
    {
      "cell_type": "code",
      "source": [
        "predict_lang(\"گزشتہ ایک روز کے دوران کورونا کے سبب 118 اموات ہوئیں جس کے بعد اموات کا مجموعہ\")"
      ],
      "metadata": {
        "colab": {
          "base_uri": "https://localhost:8080/"
        },
        "id": "JF_yNADIbcxd",
        "outputId": "e966e3e5-14e3-4278-fdaf-7383771f9d33"
      },
      "execution_count": null,
      "outputs": [
        {
          "output_type": "stream",
          "name": "stdout",
          "text": [
            "Language :  Arabic\n"
          ]
        }
      ]
    },
    {
      "cell_type": "code",
      "source": [],
      "metadata": {
        "id": "x9zf5qj7biAQ"
      },
      "execution_count": null,
      "outputs": []
    }
  ]
}